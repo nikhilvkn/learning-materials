{
 "cells": [
  {
   "cell_type": "markdown",
   "metadata": {},
   "source": [
    "NOTES:\n",
    "    This is a good requirement for Regex\n",
    "ABCXYZ company has up to  employees.\n",
    "The company decides to create a unique identification number (UID) for each of its employees.\n",
    "The company has assigned you the task of validating all the randomly generated UIDs.\n",
    "\n",
    "A valid UID must follow the rules below:\n",
    "\n",
    "1. It must contain at least  uppercase English alphabet characters.\n",
    "2. It must contain at least  digits ( - ).\n",
    "3. It should only contain alphanumeric characters ( - ,  -  &  - ).\n",
    "4. No character should repeat.\n",
    "5. There must be exactly  characters in a valid UID."
   ]
  },
  {
   "cell_type": "code",
   "execution_count": null,
   "metadata": {},
   "outputs": [],
   "source": []
  },
  {
   "cell_type": "code",
   "execution_count": 6,
   "metadata": {},
   "outputs": [],
   "source": [
    "import re"
   ]
  },
  {
   "cell_type": "code",
   "execution_count": 11,
   "metadata": {},
   "outputs": [
    {
     "name": "stdout",
     "output_type": "stream",
     "text": [
      "2\n",
      "B1CD102354\n",
      "B1CDEF2354\n",
      "Invalid\n",
      "valid\n"
     ]
    }
   ],
   "source": [
    "if __name__ == '__main__':\n",
    "    pattern = re.compile(r'^(?=(?:[a-z\\d]*[A-Z]){2})(?=(?:\\D*\\d){3})(?:([a-zA-Z\\d])(?!.*\\1)){10}$')\n",
    "    n = int(input())\n",
    "    emp_id = [input() for _ in range(n)]\n",
    "    for id in emp_id:\n",
    "        if pattern.match(id):\n",
    "            print('valid')\n",
    "        else:\n",
    "            print('Invalid')"
   ]
  },
  {
   "cell_type": "code",
   "execution_count": null,
   "metadata": {},
   "outputs": [],
   "source": []
  },
  {
   "cell_type": "markdown",
   "metadata": {},
   "source": [
    "NOTES:\n",
    "    Examine Regex pattern\n",
    "1. ^: Start\n",
    "2. (?=(?:[a-z\\d]*[A-Z]){2}): Lookahead to assert that we have at least 2 uppercase alphabets\n",
    "3. (?=(?:\\D*\\d){3}): Lookahead to assert that we have at least 3 digits\n",
    "4. (?:([a-zA-Z\\d])(?!.*\\1)){10}: Match exact 10 alphanumeric characters. Negative lookahead is to assert that we don't have anything repeating anywhere.\n",
    "5. $: End"
   ]
  },
  {
   "cell_type": "code",
   "execution_count": null,
   "metadata": {},
   "outputs": [],
   "source": []
  },
  {
   "cell_type": "code",
   "execution_count": null,
   "metadata": {},
   "outputs": [],
   "source": []
  }
 ],
 "metadata": {
  "kernelspec": {
   "display_name": "Python 3",
   "language": "python",
   "name": "python3"
  },
  "language_info": {
   "codemirror_mode": {
    "name": "ipython",
    "version": 3
   },
   "file_extension": ".py",
   "mimetype": "text/x-python",
   "name": "python",
   "nbconvert_exporter": "python",
   "pygments_lexer": "ipython3",
   "version": "3.7.0"
  }
 },
 "nbformat": 4,
 "nbformat_minor": 2
}
