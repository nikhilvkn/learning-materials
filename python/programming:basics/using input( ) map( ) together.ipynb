{
 "cells": [
  {
   "cell_type": "markdown",
   "metadata": {},
   "source": [
    "This section we discuss on different ways of accepting user inputs through input() function and how effectively we\n",
    "can use map() function to achieve this"
   ]
  },
  {
   "cell_type": "code",
   "execution_count": null,
   "metadata": {},
   "outputs": [],
   "source": []
  },
  {
   "cell_type": "code",
   "execution_count": null,
   "metadata": {},
   "outputs": [],
   "source": [
    "n = int(input('Enter number of numbers: '))"
   ]
  },
  {
   "cell_type": "code",
   "execution_count": null,
   "metadata": {
    "scrolled": true
   },
   "outputs": [],
   "source": [
    "list_data = []\n",
    "counter = 1\n",
    "while counter <= n:\n",
    "    data = int(input('Enter a number: '))\n",
    "    list_data.append(data)\n",
    "    counter += 1"
   ]
  },
  {
   "cell_type": "markdown",
   "metadata": {},
   "source": [
    "NOTES:\n",
    " - Above one ask for a input n and will only allow us to enter number n times\n",
    " - This is done through normal python code"
   ]
  },
  {
   "cell_type": "code",
   "execution_count": null,
   "metadata": {},
   "outputs": [],
   "source": []
  },
  {
   "cell_type": "code",
   "execution_count": null,
   "metadata": {},
   "outputs": [],
   "source": [
    "if __name__ == '__main__':\n",
    "    n = int(input())\n",
    "    data = list(map(int, input().split()))\n",
    "    print(sorted(set(data))[-2])"
   ]
  },
  {
   "cell_type": "markdown",
   "metadata": {},
   "source": [
    "NOTES:\n",
    " - This one does eactly same as first, but does it through a map function\n",
    " - Code looks clean"
   ]
  },
  {
   "cell_type": "code",
   "execution_count": null,
   "metadata": {},
   "outputs": [],
   "source": []
  },
  {
   "cell_type": "code",
   "execution_count": null,
   "metadata": {},
   "outputs": [],
   "source": [
    "if __name__ == '__main__':\n",
    "    n = int(input())\n",
    "    mark = [[input(), float(input())] for _ in range(n)]\n",
    "    s_largest = sorted(list(set([marks for name,marks in mark])))[1]\n",
    "    print('\\n'.join([name for name, marks in sorted(mark) if marks == s_largest]))"
   ]
  },
  {
   "cell_type": "markdown",
   "metadata": {},
   "source": [
    "NOTES:\n",
    " - Above code asks name and mark (as float) line by line and the does the logic to see who comes second highest.\n",
    " - If two of them have the same mark, then should print both names\n",
    " - Code build through map(), which takes map(function, iterator)"
   ]
  },
  {
   "cell_type": "code",
   "execution_count": null,
   "metadata": {},
   "outputs": [],
   "source": []
  },
  {
   "cell_type": "code",
   "execution_count": null,
   "metadata": {},
   "outputs": [],
   "source": [
    "if __name__ == '__main__':\n",
    "    n = int(input())\n",
    "    student_marks = {}\n",
    "    for _ in range(n):\n",
    "        name, *line = input().split()\n",
    "        scores = list(map(float, line))\n",
    "        student_marks[name] = scores\n",
    "    print(student_marks)\n",
    "    query_name = input()\n",
    "    \n",
    "    total = sum(student_marks[query_name])/len(student_marks[query_name])\n",
    "    formatted_float = \"{:.2f}\".format(total)\n",
    "    print(formatted_float)"
   ]
  },
  {
   "cell_type": "markdown",
   "metadata": {},
   "source": [
    "NOTES:\n",
    " - The user input in this program is like this\n",
    " Anurag 26 28 30\n",
    " Harsh 25 26.5 28\n",
    " Name followed by the mark, which is in float\n",
    " - We need to find the avrage mark of a student\n",
    " - \"{:.2f}\" prints 2 decimal point [25.00]"
   ]
  },
  {
   "cell_type": "code",
   "execution_count": null,
   "metadata": {},
   "outputs": [],
   "source": []
  },
  {
   "cell_type": "code",
   "execution_count": null,
   "metadata": {},
   "outputs": [],
   "source": [
    "x = int (input()) \n",
    "y = int (input())\n",
    "k = int (input())\n",
    "n = int (input()) \n",
    "\n",
    "print([(i, j, z) for i in range( x + 1) for j in range( y + 1) for z in range( k + 1 ) if ( ( i + j + z ) != n )])"
   ]
  },
  {
   "cell_type": "markdown",
   "metadata": {},
   "source": [
    "NOTES:\n",
    " - This explains how we can use mutilple for loop and if condition inside list comprehension"
   ]
  },
  {
   "cell_type": "code",
   "execution_count": null,
   "metadata": {},
   "outputs": [],
   "source": []
  }
 ],
 "metadata": {
  "kernelspec": {
   "display_name": "Python 3",
   "language": "python",
   "name": "python3"
  },
  "language_info": {
   "codemirror_mode": {
    "name": "ipython",
    "version": 3
   },
   "file_extension": ".py",
   "mimetype": "text/x-python",
   "name": "python",
   "nbconvert_exporter": "python",
   "pygments_lexer": "ipython3",
   "version": "3.7.0"
  }
 },
 "nbformat": 4,
 "nbformat_minor": 2
}
