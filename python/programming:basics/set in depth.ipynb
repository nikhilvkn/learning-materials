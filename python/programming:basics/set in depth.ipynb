{
 "cells": [
  {
   "cell_type": "markdown",
   "metadata": {},
   "source": [
    "## Operating in Set"
   ]
  },
  {
   "cell_type": "markdown",
   "metadata": {},
   "source": [
    "NOTES:\n",
    "    - These are the operations (methods) which we can perform on a set\n",
    "    union\n",
    "    intersection\n",
    "    difference\n",
    "    issubset\n",
    "    issuperset -> B is a subset of A. if B == A is also possible\n",
    "    symmetric difference [not intersection]\n",
    "    isdisjoint -> Checks if 2 sets have any element in common. return boolean [True/False]\n",
    "    \n",
    "    With these methods, we can check isstrictsuperset, isstrictsubset\n",
    "    A is a strict superset of B: \n",
    "        - if B is a subset of A\n",
    "        - B != A\n",
    "    A is a strict subset of B:\n",
    "        - if B is a subset of A\n",
    "        - B != A"
   ]
  },
  {
   "cell_type": "markdown",
   "metadata": {},
   "source": [
    "NOTES:\n",
    "    - Thumb rule in mnipulating Sets\n",
    "        - Can bbe done through Operators of Methods\n",
    "        - If using Methods, like a.union(b), then we can give any iterators in b and Python will convert that to Set and perform the operation\n",
    "    - Will always have unique elements - no duplicates\n",
    "    - They are unordered\n",
    "    Frozensets\n",
    "        - They are immutable sets\n",
    "        - f = frozenset(['foo','bar','baz'])"
   ]
  },
  {
   "cell_type": "markdown",
   "metadata": {},
   "source": [
    "### Checking if Set B is a subset of Set A"
   ]
  },
  {
   "cell_type": "code",
   "execution_count": 16,
   "metadata": {},
   "outputs": [
    {
     "name": "stdout",
     "output_type": "stream",
     "text": [
      "Enter no:of tries: 2\n",
      "How many in set A: 3\n",
      "11 2 3\n",
      "Set A: {3, 2, 11}\n",
      "How many in set B: 2\n",
      "3 2\n",
      "Set B: {2, 3}\n",
      "True\n",
      "How many in set A: 2\n",
      "3 2\n",
      "Set A: {2, 3}\n",
      "How many in set B: 3\n",
      "11 2 3\n",
      "Set B: {3, 2, 11}\n",
      "False\n"
     ]
    }
   ],
   "source": [
    "if __name__ == '__main__':\n",
    "    number_of_tries = int(input('Enter no:of tries: '))\n",
    "    \n",
    "    for _ in range(number_of_tries):\n",
    "        number_of_elements_set_a = int(input('How many in set A: '))\n",
    "        \n",
    "        set_a = set(map(int, input().split()))\n",
    "        print(f'Set A: {set_a}')\n",
    "        \n",
    "        number_of_elements_set_b = int(input('How many in set B: '))\n",
    "        \n",
    "        set_b = set(map(int, input().split()))    \n",
    "        print(f'Set B: {set_b}')\n",
    "        \n",
    "        print(set_b.issubset(set_a))"
   ]
  },
  {
   "cell_type": "code",
   "execution_count": null,
   "metadata": {},
   "outputs": [],
   "source": []
  },
  {
   "cell_type": "markdown",
   "metadata": {},
   "source": [
    "### Check Strict Superset: If anyone of set is False, then not strict super set"
   ]
  },
  {
   "cell_type": "code",
   "execution_count": 14,
   "metadata": {},
   "outputs": [],
   "source": [
    "def isstrictsuperset(set_a, set_b):\n",
    "    if set_b.issubset(set_a):\n",
    "        if set_a.difference(set_b) != set():\n",
    "            return True\n",
    "        else:\n",
    "            return False\n",
    "    else:\n",
    "        return False"
   ]
  },
  {
   "cell_type": "code",
   "execution_count": 15,
   "metadata": {},
   "outputs": [
    {
     "name": "stdout",
     "output_type": "stream",
     "text": [
      "1 2 3 4 5 6 7 8 9 10 11 12 23 45 84 78\n",
      "Enter no:of sets: 2\n",
      "1 2 3 4 5\n",
      "100 11 12\n",
      "False\n"
     ]
    }
   ],
   "source": [
    "if __name__ == '__main__':\n",
    "    data = []\n",
    "    \n",
    "    a = set(map(int, input().split()))\n",
    "    count = int(input('Enter no:of sets: '))\n",
    "    for _ in range(count):\n",
    "        b = set(map(int, input().split()))\n",
    "        data.append(isstrictsuperset(a, b))\n",
    "        \n",
    "    print('False') if False in data else print('True')"
   ]
  },
  {
   "cell_type": "code",
   "execution_count": null,
   "metadata": {},
   "outputs": [],
   "source": []
  },
  {
   "cell_type": "code",
   "execution_count": null,
   "metadata": {},
   "outputs": [],
   "source": []
  }
 ],
 "metadata": {
  "kernelspec": {
   "display_name": "Python 3",
   "language": "python",
   "name": "python3"
  },
  "language_info": {
   "codemirror_mode": {
    "name": "ipython",
    "version": 3
   },
   "file_extension": ".py",
   "mimetype": "text/x-python",
   "name": "python",
   "nbconvert_exporter": "python",
   "pygments_lexer": "ipython3",
   "version": "3.8.2"
  }
 },
 "nbformat": 4,
 "nbformat_minor": 4
}
