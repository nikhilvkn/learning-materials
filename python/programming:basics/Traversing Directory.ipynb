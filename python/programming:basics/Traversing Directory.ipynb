{
 "cells": [
  {
   "cell_type": "code",
   "execution_count": 21,
   "metadata": {},
   "outputs": [],
   "source": [
    "from pathlib import Path\n",
    "import os"
   ]
  },
  {
   "cell_type": "code",
   "execution_count": 6,
   "metadata": {},
   "outputs": [
    {
     "data": {
      "text/plain": [
       "'/Users/nnarayanan/CompletedProjectsNikhil/Python3/JupyterExcersices/DataScience/Python2020-Course'"
      ]
     },
     "execution_count": 6,
     "metadata": {},
     "output_type": "execute_result"
    }
   ],
   "source": [
    "pwd"
   ]
  },
  {
   "cell_type": "code",
   "execution_count": 11,
   "metadata": {
    "scrolled": true
   },
   "outputs": [],
   "source": [
    "data = os.listdir(os.getcwd())"
   ]
  },
  {
   "cell_type": "code",
   "execution_count": 12,
   "metadata": {},
   "outputs": [
    {
     "data": {
      "text/plain": [
       "['pgm.py',\n",
       " 'data_file.txt',\n",
       " '2020 python course.ipynb',\n",
       " 'test',\n",
       " 'Untitled.ipynb',\n",
       " 'oop.ipynb',\n",
       " 'pure functions.ipynb',\n",
       " 'Testing.ipynb',\n",
       " 'Traversing Directory.ipynb',\n",
       " '.ipynb_checkpoints']"
      ]
     },
     "execution_count": 12,
     "metadata": {},
     "output_type": "execute_result"
    }
   ],
   "source": [
    "data"
   ]
  },
  {
   "cell_type": "markdown",
   "metadata": {},
   "source": [
    "NOTES:\n",
    " - os.listdir will not have the file in the subdirectory, for that you can use os.walk\n",
    " - an alternative to os.listdir() is to use os.scandir() and pathlib.Path()\n",
    " - os.scandir() returns an iterator as opposed to a list when called\n",
    " - pathlib.Path() offers much of the file and path handling functionality found in os and shutil"
   ]
  },
  {
   "cell_type": "code",
   "execution_count": 14,
   "metadata": {},
   "outputs": [
    {
     "name": "stdout",
     "output_type": "stream",
     "text": [
      "<posix.ScandirIterator object at 0x10c89ae00>\n"
     ]
    }
   ],
   "source": [
    "with os.scandir(os.getcwd()) as data:\n",
    "    print(data)"
   ]
  },
  {
   "cell_type": "code",
   "execution_count": 20,
   "metadata": {},
   "outputs": [
    {
     "name": "stdout",
     "output_type": "stream",
     "text": [
      "pgm.py\n",
      "data_file.txt\n",
      "2020 python course.ipynb\n",
      "test\n",
      "Untitled.ipynb\n",
      "oop.ipynb\n",
      "pure functions.ipynb\n",
      "Testing.ipynb\n",
      "Traversing Directory.ipynb\n",
      ".ipynb_checkpoints\n"
     ]
    }
   ],
   "source": [
    "with os.scandir(os.getcwd()) as data:\n",
    "    for value in data:\n",
    "        print(value.name)"
   ]
  },
  {
   "cell_type": "code",
   "execution_count": 31,
   "metadata": {},
   "outputs": [],
   "source": [
    "data = Path(os.getcwd())"
   ]
  },
  {
   "cell_type": "code",
   "execution_count": 32,
   "metadata": {},
   "outputs": [
    {
     "name": "stdout",
     "output_type": "stream",
     "text": [
      "pgm.py\n",
      "data_file.txt\n",
      "2020 python course.ipynb\n",
      "test\n",
      "test_dir1\n",
      "Untitled.ipynb\n",
      "oop.ipynb\n",
      "pure functions.ipynb\n",
      "Testing.ipynb\n",
      "Traversing Directory.ipynb\n",
      ".ipynb_checkpoints\n"
     ]
    }
   ],
   "source": [
    "for value in data.iterdir():\n",
    "    print(value.name)"
   ]
  },
  {
   "cell_type": "code",
   "execution_count": null,
   "metadata": {},
   "outputs": [],
   "source": []
  },
  {
   "cell_type": "code",
   "execution_count": 42,
   "metadata": {},
   "outputs": [
    {
     "name": "stdout",
     "output_type": "stream",
     "text": [
      "test\n",
      "checking_dir\n",
      ".ipynb_checkpoints\n"
     ]
    }
   ],
   "source": [
    "for value in data.iterdir():\n",
    "    if value.is_dir():\n",
    "        print(value.name)"
   ]
  },
  {
   "cell_type": "markdown",
   "metadata": {},
   "source": [
    "NOTES:\n",
    " - We will use Pathlib() module through out excersices\n",
    " - We can use is_dir() or is_file() to check if a directory can list directory or files. There are diff methods also\n",
    " - pathlib.Path.glob() can be used for file pattern matching"
   ]
  },
  {
   "cell_type": "code",
   "execution_count": null,
   "metadata": {},
   "outputs": [],
   "source": []
  },
  {
   "cell_type": "code",
   "execution_count": 43,
   "metadata": {},
   "outputs": [],
   "source": [
    "path = Path(os.getcwd())"
   ]
  },
  {
   "cell_type": "code",
   "execution_count": 44,
   "metadata": {},
   "outputs": [
    {
     "name": "stdout",
     "output_type": "stream",
     "text": [
      "data_file.txt\n"
     ]
    }
   ],
   "source": [
    "for value in path.glob('*.txt'):\n",
    "    print(value.name)"
   ]
  },
  {
   "cell_type": "code",
   "execution_count": 45,
   "metadata": {},
   "outputs": [
    {
     "name": "stdout",
     "output_type": "stream",
     "text": [
      "data_file.txt\n",
      "data_file1.txt\n",
      "data_file2.txt\n",
      "data_file3.txt\n",
      "checking_file3.txt\n",
      "checking_file2.txt\n",
      "checking_file1.txt\n"
     ]
    }
   ],
   "source": [
    "for value in path.rglob('*.txt'):\n",
    "    print(value.name)"
   ]
  },
  {
   "cell_type": "markdown",
   "metadata": {},
   "source": [
    "NOTE:\n",
    " - Above result can be used to query all files from main and subdirectories\n",
    " - By default, listing will list only directories od files based on our request"
   ]
  },
  {
   "cell_type": "code",
   "execution_count": null,
   "metadata": {},
   "outputs": [],
   "source": []
  }
 ],
 "metadata": {
  "kernelspec": {
   "display_name": "Python 3",
   "language": "python",
   "name": "python3"
  },
  "language_info": {
   "codemirror_mode": {
    "name": "ipython",
    "version": 3
   },
   "file_extension": ".py",
   "mimetype": "text/x-python",
   "name": "python",
   "nbconvert_exporter": "python",
   "pygments_lexer": "ipython3",
   "version": "3.7.0"
  }
 },
 "nbformat": 4,
 "nbformat_minor": 2
}
