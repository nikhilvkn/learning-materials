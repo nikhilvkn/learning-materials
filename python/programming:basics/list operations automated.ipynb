{
 "cells": [
  {
   "cell_type": "markdown",
   "metadata": {},
   "source": [
    "### List Operation"
   ]
  },
  {
   "cell_type": "code",
   "execution_count": 1,
   "metadata": {},
   "outputs": [
    {
     "name": "stdout",
     "output_type": "stream",
     "text": [
      "Enter the total number: 3\n",
      "insert 0 2\n",
      "insert 1 9\n",
      "print\n",
      "[2, 9]\n"
     ]
    }
   ],
   "source": [
    "if __name__ == '__main__':\n",
    "    user_input_number = int(input('Enter the total number: '))\n",
    "    my_list = []\n",
    "    for _ in range(user_input_number):\n",
    "        user_input = input().split()\n",
    "        cmd = user_input[0]\n",
    "        args = user_input[1:]\n",
    "        if cmd != 'print':\n",
    "            cmd = cmd + \"(\"+ \",\".join(args) +\")\"\n",
    "            eval(\"my_list.\"+cmd)\n",
    "        else:\n",
    "            print(my_list)"
   ]
  },
  {
   "cell_type": "code",
   "execution_count": null,
   "metadata": {},
   "outputs": [],
   "source": []
  },
  {
   "cell_type": "markdown",
   "metadata": {},
   "source": [
    "### What we get from this program?"
   ]
  },
  {
   "cell_type": "markdown",
   "metadata": {},
   "source": [
    "NOTES:\n",
    "    - We can iterate over n numbers from user input and gather values\n",
    "    - split(), by default splits over white spaces and creates a list out of it ['insert', '0', '2']\n",
    "    - eval(), function evaluates a my_list.insert(0,2)\n",
    "    - When ever gets a print, prints out the result just performed"
   ]
  },
  {
   "cell_type": "code",
   "execution_count": null,
   "metadata": {},
   "outputs": [],
   "source": []
  }
 ],
 "metadata": {
  "kernelspec": {
   "display_name": "Python 3",
   "language": "python",
   "name": "python3"
  },
  "language_info": {
   "codemirror_mode": {
    "name": "ipython",
    "version": 3
   },
   "file_extension": ".py",
   "mimetype": "text/x-python",
   "name": "python",
   "nbconvert_exporter": "python",
   "pygments_lexer": "ipython3",
   "version": "3.8.2"
  }
 },
 "nbformat": 4,
 "nbformat_minor": 4
}
