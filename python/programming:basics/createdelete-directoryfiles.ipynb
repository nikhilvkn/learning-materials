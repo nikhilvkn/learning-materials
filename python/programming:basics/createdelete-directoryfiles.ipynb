{
 "cells": [
  {
   "cell_type": "code",
   "execution_count": 1,
   "metadata": {},
   "outputs": [],
   "source": [
    "from pathlib import Path\n",
    "import os\n",
    "import glob"
   ]
  },
  {
   "cell_type": "code",
   "execution_count": 2,
   "metadata": {},
   "outputs": [],
   "source": [
    "os.mkdir('created_os')"
   ]
  },
  {
   "cell_type": "code",
   "execution_count": 3,
   "metadata": {},
   "outputs": [
    {
     "name": "stdout",
     "output_type": "stream",
     "text": [
      "created_os\n",
      "testdirectory\n",
      ".ipynb_checkpoints\n"
     ]
    }
   ],
   "source": [
    "for value in os.listdir(os.getcwd()):\n",
    "    if os.path.isdir(value):\n",
    "        print(value)"
   ]
  },
  {
   "cell_type": "code",
   "execution_count": 4,
   "metadata": {},
   "outputs": [],
   "source": [
    "data_path = os.getcwd()"
   ]
  },
  {
   "cell_type": "code",
   "execution_count": 5,
   "metadata": {},
   "outputs": [
    {
     "name": "stdout",
     "output_type": "stream",
     "text": [
      "created_os\n",
      "testdirectory\n",
      ".ipynb_checkpoints\n"
     ]
    }
   ],
   "source": [
    "for value in os.listdir(data_path):\n",
    "    if os.path.isdir(os.path.join(data_path, value)):\n",
    "        print(value)"
   ]
  },
  {
   "cell_type": "markdown",
   "metadata": {},
   "source": [
    "NOTE:\n",
    " - Both gives the same output, but in different ways"
   ]
  },
  {
   "cell_type": "code",
   "execution_count": null,
   "metadata": {},
   "outputs": [],
   "source": []
  },
  {
   "cell_type": "code",
   "execution_count": 6,
   "metadata": {},
   "outputs": [],
   "source": [
    "data = Path('created_os')"
   ]
  },
  {
   "cell_type": "code",
   "execution_count": 7,
   "metadata": {},
   "outputs": [],
   "source": [
    "data.mkdir(exist_ok=True)"
   ]
  },
  {
   "cell_type": "code",
   "execution_count": 8,
   "metadata": {},
   "outputs": [
    {
     "name": "stdout",
     "output_type": "stream",
     "text": [
      "[Errno 17] File exists: 'created_os'\n"
     ]
    }
   ],
   "source": [
    "p = Path('created_os')\n",
    "try:\n",
    "    p.mkdir()\n",
    "except FileExistsError as e:\n",
    "    print(e)"
   ]
  },
  {
   "cell_type": "markdown",
   "metadata": {},
   "source": [
    "NOTE:\n",
    " - If exist_ok=True is not given, then if the directory exists, python will through an exception"
   ]
  },
  {
   "cell_type": "code",
   "execution_count": null,
   "metadata": {},
   "outputs": [],
   "source": []
  },
  {
   "cell_type": "code",
   "execution_count": 9,
   "metadata": {},
   "outputs": [],
   "source": [
    "os.makedirs('multiple_dir/inside1_dir/inside2_dir')"
   ]
  },
  {
   "cell_type": "code",
   "execution_count": 10,
   "metadata": {},
   "outputs": [
    {
     "name": "stdout",
     "output_type": "stream",
     "text": [
      "created_os\n",
      "testdirectory\n",
      "multiple_dir\n",
      ".ipynb_checkpoints\n"
     ]
    }
   ],
   "source": [
    "for value in os.listdir(os.getcwd()):\n",
    "    if os.path.isdir(value):\n",
    "        print(value)"
   ]
  },
  {
   "cell_type": "code",
   "execution_count": 19,
   "metadata": {},
   "outputs": [
    {
     "name": "stdout",
     "output_type": "stream",
     "text": [
      "[Errno 17] File exists: 'multiple_dir/inside1_dir/inside2_dir'\n"
     ]
    }
   ],
   "source": [
    "try:\n",
    "    p = Path('multiple_dir/inside1_dir/inside2_dir')\n",
    "    p.mkdir(parents=True)\n",
    "except FileExistsError as err:\n",
    "    print(err)"
   ]
  },
  {
   "cell_type": "markdown",
   "metadata": {},
   "source": [
    "NOTE:\n",
    " - Described how we can create directories using os.mkdir, os.makedirs and pathlib"
   ]
  },
  {
   "cell_type": "code",
   "execution_count": null,
   "metadata": {},
   "outputs": [],
   "source": []
  },
  {
   "cell_type": "markdown",
   "metadata": {},
   "source": [
    "NOTES:\n",
    " - os.rmdir('file name')\n",
    " - os.unlink('file name')\n",
    " - pathlib.Path.unlink('file name')\n",
    "\n",
    "These can be used to removed files, but not directories. An exception is through when we try to delete a directory\n",
    "We can use os.path.isfile and os.path.isdir to check if it is a file or directory"
   ]
  },
  {
   "cell_type": "code",
   "execution_count": 21,
   "metadata": {},
   "outputs": [
    {
     "name": "stdout",
     "output_type": "stream",
     "text": [
      "removed\n"
     ]
    }
   ],
   "source": [
    "if os.path.isfile('file_to_remove.txt'):\n",
    "    os.unlink('file_to_remove.txt')\n",
    "    print('removed')\n",
    "else:\n",
    "    print('Not a file')"
   ]
  },
  {
   "cell_type": "markdown",
   "metadata": {},
   "source": [
    "NOTES:\n",
    " - os.rmdir('directory name')\n",
    " - pathlib.Path.rmdir('directory name')\n",
    " - shutil.rmtree()"
   ]
  },
  {
   "cell_type": "code",
   "execution_count": null,
   "metadata": {},
   "outputs": [],
   "source": []
  }
 ],
 "metadata": {
  "kernelspec": {
   "display_name": "Python 3",
   "language": "python",
   "name": "python3"
  },
  "language_info": {
   "codemirror_mode": {
    "name": "ipython",
    "version": 3
   },
   "file_extension": ".py",
   "mimetype": "text/x-python",
   "name": "python",
   "nbconvert_exporter": "python",
   "pygments_lexer": "ipython3",
   "version": "3.7.0"
  }
 },
 "nbformat": 4,
 "nbformat_minor": 2
}
