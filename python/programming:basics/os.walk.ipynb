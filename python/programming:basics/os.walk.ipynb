{
 "cells": [
  {
   "cell_type": "code",
   "execution_count": 8,
   "metadata": {},
   "outputs": [],
   "source": [
    "from pathlib import Path\n",
    "import os"
   ]
  },
  {
   "cell_type": "code",
   "execution_count": 5,
   "metadata": {},
   "outputs": [
    {
     "name": "stdout",
     "output_type": "stream",
     "text": [
      "createdelete-directoryfiles.ipynb\n",
      "os.walk.ipynb\n",
      "text_file3.txt\n",
      "text_file2.txt\n",
      "text_file1.txt\n",
      "createdelete-directoryfiles-checkpoint.ipynb\n",
      "os.walk-checkpoint.ipynb\n"
     ]
    }
   ],
   "source": [
    "for dirpath, dirnames, files in os.walk(os.getcwd()):\n",
    "    for value in files:\n",
    "        print(value)"
   ]
  },
  {
   "cell_type": "markdown",
   "metadata": {},
   "source": [
    "NOTE:\n",
    " - This iterates through inner folders and retrieve the files and folders"
   ]
  },
  {
   "cell_type": "code",
   "execution_count": null,
   "metadata": {},
   "outputs": [],
   "source": []
  },
  {
   "cell_type": "code",
   "execution_count": 9,
   "metadata": {},
   "outputs": [],
   "source": [
    "data = Path(os.getcwd())"
   ]
  },
  {
   "cell_type": "code",
   "execution_count": 12,
   "metadata": {},
   "outputs": [
    {
     "name": "stdout",
     "output_type": "stream",
     "text": [
      "createdelete-directoryfiles.ipynb\n",
      "os.walk.ipynb\n"
     ]
    }
   ],
   "source": [
    "for value in data.iterdir():\n",
    "    if value.is_file():\n",
    "        print(value.name)"
   ]
  },
  {
   "cell_type": "markdown",
   "metadata": {},
   "source": [
    "NOTE:\n",
    "- This helps to get the files and folder in the root directory by default"
   ]
  },
  {
   "cell_type": "code",
   "execution_count": null,
   "metadata": {},
   "outputs": [],
   "source": []
  },
  {
   "cell_type": "code",
   "execution_count": 13,
   "metadata": {},
   "outputs": [
    {
     "name": "stdout",
     "output_type": "stream",
     "text": [
      "/Users/nnarayanan/Python/createdelete-directoryfiles.ipynb\n",
      "/Users/nnarayanan/Python/os.walk.ipynb\n",
      "/Users/nnarayanan/Python/testdirectory/text_file3.txt\n",
      "/Users/nnarayanan/Python/testdirectory/text_file2.txt\n",
      "/Users/nnarayanan/Python/testdirectory/text_file1.txt\n",
      "/Users/nnarayanan/Python/.ipynb_checkpoints/createdelete-directoryfiles-checkpoint.ipynb\n",
      "/Users/nnarayanan/Python/.ipynb_checkpoints/os.walk-checkpoint.ipynb\n"
     ]
    }
   ],
   "source": [
    "for dirpath, dirnames, files in os.walk(os.getcwd()):\n",
    "    for value in files:\n",
    "        print(os.path.join(dirpath, value))"
   ]
  },
  {
   "cell_type": "code",
   "execution_count": null,
   "metadata": {},
   "outputs": [],
   "source": []
  },
  {
   "cell_type": "code",
   "execution_count": null,
   "metadata": {},
   "outputs": [],
   "source": []
  }
 ],
 "metadata": {
  "kernelspec": {
   "display_name": "Python 3",
   "language": "python",
   "name": "python3"
  },
  "language_info": {
   "codemirror_mode": {
    "name": "ipython",
    "version": 3
   },
   "file_extension": ".py",
   "mimetype": "text/x-python",
   "name": "python",
   "nbconvert_exporter": "python",
   "pygments_lexer": "ipython3",
   "version": "3.7.0"
  }
 },
 "nbformat": 4,
 "nbformat_minor": 2
}
