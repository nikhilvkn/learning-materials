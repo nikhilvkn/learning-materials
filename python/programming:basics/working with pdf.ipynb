{
 "cells": [
  {
   "cell_type": "code",
   "execution_count": 6,
   "metadata": {},
   "outputs": [],
   "source": [
    "import PyPDF2\n",
    "import os"
   ]
  },
  {
   "cell_type": "code",
   "execution_count": 4,
   "metadata": {},
   "outputs": [
    {
     "name": "stdout",
     "output_type": "stream",
     "text": [
      "watermark.pdf\n",
      "Untitled.ipynb\n",
      "super.pdf\n",
      "dummy.pdf\n",
      "two_page.pdf\n",
      ".ipynb_checkpoints\n",
      "working with pdf.ipynb\n"
     ]
    }
   ],
   "source": [
    "for value in os.listdir():\n",
    "    print(value)"
   ]
  },
  {
   "cell_type": "code",
   "execution_count": 15,
   "metadata": {},
   "outputs": [],
   "source": [
    "with open('dummy.pdf', mode='rb') as dummy_file:\n",
    "    reader = PyPDF2.PdfFileReader(dummy_file)\n",
    "    page = reader.getPage(0)\n",
    "    page.rotateCounterClockwise(90)\n",
    "    writer = PyPDF2.PdfFileWriter()\n",
    "    writer.addPage(page)\n",
    "    with open('tilt.pdf', mode='wb') as new_file:\n",
    "        writer.write(new_file)"
   ]
  },
  {
   "cell_type": "markdown",
   "metadata": {},
   "source": [
    "NOTES:\n",
    " - this program demostarte how to open and do something and then write a new pdf/ or pdf page out of it\n",
    " - important stuff is understanding how to read documentation"
   ]
  },
  {
   "cell_type": "code",
   "execution_count": null,
   "metadata": {},
   "outputs": [],
   "source": []
  },
  {
   "cell_type": "code",
   "execution_count": 30,
   "metadata": {},
   "outputs": [],
   "source": [
    "from_pdf = PyPDF2.PdfFileReader(open('two_page.pdf', 'rb'))"
   ]
  },
  {
   "cell_type": "code",
   "execution_count": 31,
   "metadata": {},
   "outputs": [],
   "source": [
    "water_pdf = PyPDF2.PdfFileReader(open('watermark.pdf', 'rb'))"
   ]
  },
  {
   "cell_type": "code",
   "execution_count": 32,
   "metadata": {},
   "outputs": [],
   "source": [
    "output = PyPDF2.PdfFileWriter()"
   ]
  },
  {
   "cell_type": "code",
   "execution_count": 33,
   "metadata": {},
   "outputs": [],
   "source": [
    "for pages in range(from_pdf.getNumPages()):\n",
    "    page = from_pdf.getPage(pages)\n",
    "    page.mergePage(water_pdf.getPage(0))\n",
    "    output.addPage(page)\n",
    "    \n",
    "with open('output.pdf', 'wb') as file:\n",
    "    output.write(file)"
   ]
  },
  {
   "cell_type": "code",
   "execution_count": null,
   "metadata": {},
   "outputs": [],
   "source": [
    "NOTES:\n",
    " - this program shows us how to do watermark in pdf"
   ]
  },
  {
   "cell_type": "code",
   "execution_count": null,
   "metadata": {},
   "outputs": [],
   "source": []
  },
  {
   "cell_type": "code",
   "execution_count": 36,
   "metadata": {},
   "outputs": [],
   "source": [
    "directory = os.path.abspath('merge_directory')"
   ]
  },
  {
   "cell_type": "code",
   "execution_count": 39,
   "metadata": {},
   "outputs": [],
   "source": [
    "merger = PyPDF2.PdfFileMerger()"
   ]
  },
  {
   "cell_type": "code",
   "execution_count": 41,
   "metadata": {},
   "outputs": [],
   "source": [
    "for value in os.listdir(directory):\n",
    "    merger.append(os.path.join(directory, value))"
   ]
  },
  {
   "cell_type": "code",
   "execution_count": 42,
   "metadata": {},
   "outputs": [],
   "source": [
    "merger.write(os.path.join(directory, 'merged.pdf'))"
   ]
  },
  {
   "cell_type": "code",
   "execution_count": null,
   "metadata": {},
   "outputs": [],
   "source": [
    "NOTES:\n",
    " - above program shows how to merge a list of pdf to a single one\n",
    " - here added all pdfs to a single directory, looped through the directory and applied the merge object"
   ]
  },
  {
   "cell_type": "code",
   "execution_count": null,
   "metadata": {},
   "outputs": [],
   "source": []
  }
 ],
 "metadata": {
  "kernelspec": {
   "display_name": "Python 3",
   "language": "python",
   "name": "python3"
  },
  "language_info": {
   "codemirror_mode": {
    "name": "ipython",
    "version": 3
   },
   "file_extension": ".py",
   "mimetype": "text/x-python",
   "name": "python",
   "nbconvert_exporter": "python",
   "pygments_lexer": "ipython3",
   "version": "3.7.0"
  }
 },
 "nbformat": 4,
 "nbformat_minor": 2
}
