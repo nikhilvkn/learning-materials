{
 "cells": [
  {
   "cell_type": "markdown",
   "metadata": {},
   "source": [
    "## Web scraping"
   ]
  },
  {
   "cell_type": "code",
   "execution_count": 60,
   "metadata": {},
   "outputs": [],
   "source": [
    "import requests\n",
    "import sys\n",
    "from bs4 import BeautifulSoup\n",
    "import pprint"
   ]
  },
  {
   "cell_type": "code",
   "execution_count": 4,
   "metadata": {},
   "outputs": [],
   "source": [
    "resonse = requests.get('https://news.ycombinator.com/')"
   ]
  },
  {
   "cell_type": "code",
   "execution_count": 7,
   "metadata": {},
   "outputs": [],
   "source": [
    "soup = BeautifulSoup(resonse.text,'html.parser')"
   ]
  },
  {
   "cell_type": "code",
   "execution_count": 33,
   "metadata": {},
   "outputs": [],
   "source": [
    "links = soup.select('.storylink')\n",
    "votes = soup.select('.score')"
   ]
  },
  {
   "cell_type": "code",
   "execution_count": 67,
   "metadata": {},
   "outputs": [
    {
     "data": {
      "text/plain": [
       "[<meta content=\"origin\" name=\"referrer\"/>,\n",
       " <meta content=\"width=device-width, initial-scale=1.0\" name=\"viewport\"/>,\n",
       " <link href=\"news.css?h3tE2pwNLBsSHuLSCVQQ\" rel=\"stylesheet\" type=\"text/css\"/>,\n",
       " '\\n',\n",
       " <link href=\"favicon.ico\" rel=\"shortcut icon\"/>,\n",
       " '\\n',\n",
       " <link href=\"rss\" rel=\"alternate\" title=\"RSS\" type=\"application/rss+xml\"/>,\n",
       " '\\n',\n",
       " <title>Hacker News</title>]"
      ]
     },
     "execution_count": 67,
     "metadata": {},
     "output_type": "execute_result"
    }
   ],
   "source": [
    "soup.head.contents"
   ]
  },
  {
   "cell_type": "code",
   "execution_count": 37,
   "metadata": {
    "scrolled": true
   },
   "outputs": [
    {
     "data": {
      "text/plain": [
       "<a class=\"storylink\" href=\"https://www.wired.com/story/confessions-marcus-hutchins-hacker-who-saved-the-internet/\">Marcus Hutchins put a stop to the WannaCry attack, then was arrested by the FBI</a>"
      ]
     },
     "execution_count": 37,
     "metadata": {},
     "output_type": "execute_result"
    }
   ],
   "source": [
    "links[0]"
   ]
  },
  {
   "cell_type": "code",
   "execution_count": 35,
   "metadata": {},
   "outputs": [
    {
     "data": {
      "text/plain": [
       "'https://www.wired.com/story/confessions-marcus-hutchins-hacker-who-saved-the-internet/'"
      ]
     },
     "execution_count": 35,
     "metadata": {},
     "output_type": "execute_result"
    }
   ],
   "source": [
    "links[0]"
   ]
  },
  {
   "cell_type": "code",
   "execution_count": 38,
   "metadata": {},
   "outputs": [
    {
     "data": {
      "text/plain": [
       "['Marcus Hutchins put a stop to the WannaCry attack, then was arrested by the FBI',\n",
       " 'A 2020 Vision of Linear Algebra',\n",
       " 'Most detailed ever photograph of The Night Watch goes online',\n",
       " 'Street View camera rigs do much more than just take photos',\n",
       " 'Thank you for helping us increase our bandwidth',\n",
       " \"Ask HN: I've been promoted to Architect. What do I need to learn/do to excel?\",\n",
       " 'Iyashikei: Japan’s Genre of “Healing Games”',\n",
       " 'Show HN: Solid, a free and MIT licensed design system / UI kit for Bootstrap 4',\n",
       " 'What can a technologist do about climate change? (2015)',\n",
       " 'Interview with the Creator of Max/MSP and Pure Data',\n",
       " 'Lidl to Launch Rival to AWS',\n",
       " 'Proxmox VE 6.2',\n",
       " 'Self-Driving Cars with ROS and Autoware',\n",
       " 'Using an iPad as the main display for a Mac Mini',\n",
       " 'Improved vacuum in PostgreSQL 13',\n",
       " 'Survey of Prescient Actions',\n",
       " 'Ask HN: Mind bending books to read and never be the same as before?',\n",
       " 'UNIX Text Formatting Using the -ms Macros (1984)',\n",
       " 'Playing Games on a 60s Computer [video]',\n",
       " 'Not quite a car, not quite a motorcycle: a vehicle built for one',\n",
       " 'The 1-Bit Instrument',\n",
       " 'What the heck happened with .org?',\n",
       " 'Comparing Ember Octane and React',\n",
       " 'Poka-Yoke is Not a Joke (2010)',\n",
       " 'Facebook helps launch American Edge, lobbying group to fight antitrust reg',\n",
       " 'America’s ‘Fried Chicken War’',\n",
       " 'Names, Legal Names, and Fractally Deferred Responsibility',\n",
       " \"William S. Burroughs's Paintings (2015)\",\n",
       " 'Launch HN: Data Mechanics (YC S19) – The Simplest Way to Run Apache Spark',\n",
       " 'Webrecorder: Make an interactive copy of any web page that you browse']"
      ]
     },
     "execution_count": 38,
     "metadata": {},
     "output_type": "execute_result"
    }
   ],
   "source": [
    "list(map(lambda x: x.getText(), links))"
   ]
  },
  {
   "cell_type": "code",
   "execution_count": null,
   "metadata": {},
   "outputs": [],
   "source": []
  },
  {
   "cell_type": "code",
   "execution_count": 65,
   "metadata": {},
   "outputs": [],
   "source": [
    "def main(links,votes):\n",
    "    data = []\n",
    "    for idx, item in enumerate(links):\n",
    "        text = item.getText()\n",
    "        url = item.get('href', None)\n",
    "        points = votes[idx].select('.score')\n",
    "        if len(points):\n",
    "            vote = int(points[0].getText().replace(' points',''))\n",
    "            if vote > 99:\n",
    "                data.append({'Title': text, \"Url\": url, \"Votes\": vote})\n",
    "                data = sorted(data, key=lambda x: x['Votes'], reverse=True )\n",
    "    pprint.pprint(data)    "
   ]
  },
  {
   "cell_type": "code",
   "execution_count": null,
   "metadata": {},
   "outputs": [],
   "source": []
  },
  {
   "cell_type": "code",
   "execution_count": 66,
   "metadata": {},
   "outputs": [
    {
     "name": "stdout",
     "output_type": "stream",
     "text": [
      "[{'Title': 'Thank you for helping us increase our bandwidth',\n",
      "  'Url': 'https://blog.archive.org/2020/05/11/thank-you-for-helping-us-increase-our-bandwidth/',\n",
      "  'Votes': 597},\n",
      " {'Title': 'A 2020 Vision of Linear Algebra',\n",
      "  'Url': 'https://ocw.mit.edu/resources/res-18-010-a-2020-vision-of-linear-algebra-spring-2020/index.htm',\n",
      "  'Votes': 552},\n",
      " {'Title': 'Lidl to Launch Rival to AWS',\n",
      "  'Url': 'https://www.chargedretail.co.uk/2020/05/11/lidl-owner-launching-its-own-rival-to-amazon-web-services/',\n",
      "  'Votes': 362},\n",
      " {'Title': 'Ask HN: Mind bending books to read and never be the same as '\n",
      "           'before?',\n",
      "  'Url': 'item?id=23151144',\n",
      "  'Votes': 328},\n",
      " {'Title': \"Ask HN: I've been promoted to Architect. What do I need to \"\n",
      "           'learn/do to excel?',\n",
      "  'Url': 'item?id=23152092',\n",
      "  'Votes': 246},\n",
      " {'Title': 'Most detailed ever photograph of The Night Watch goes online',\n",
      "  'Url': 'https://www.rijksmuseum.nl/en/most-detailed-ever-photograph-of-the-night-watch-goes-online',\n",
      "  'Votes': 213},\n",
      " {'Title': 'Improved vacuum in PostgreSQL 13',\n",
      "  'Url': 'https://amitkapila16.blogspot.com/2020/05/improved-autovacuum-in-postgresql-13.html',\n",
      "  'Votes': 137},\n",
      " {'Title': 'Confessions of Marcus Hutchins, the hacker who stopped the '\n",
      "           'WannaCry attack',\n",
      "  'Url': 'https://www.wired.com/story/confessions-marcus-hutchins-hacker-who-saved-the-internet/',\n",
      "  'Votes': 132},\n",
      " {'Title': 'Using an iPad as the main display for a Mac Mini',\n",
      "  'Url': 'https://lunadisplay.com/pages/headless-mode',\n",
      "  'Votes': 107},\n",
      " {'Title': 'Iyashikei: Japan’s Genre of “Healing Games” (2018)',\n",
      "  'Url': 'https://screentherapyblog.wordpress.com/2018/03/13/iyashikei/',\n",
      "  'Votes': 105}]\n"
     ]
    }
   ],
   "source": [
    "if __name__ == '__main__':\n",
    "    resonse = requests.get('https://news.ycombinator.com/')\n",
    "    soup = BeautifulSoup(resonse.text, 'html.parser')\n",
    "    \n",
    "    links = soup.select('.storylink')\n",
    "    votes = soup.select('.subtext')\n",
    "    main(links,votes)"
   ]
  },
  {
   "cell_type": "code",
   "execution_count": null,
   "metadata": {},
   "outputs": [],
   "source": []
  },
  {
   "cell_type": "code",
   "execution_count": null,
   "metadata": {},
   "outputs": [],
   "source": []
  }
 ],
 "metadata": {
  "kernelspec": {
   "display_name": "Python 3",
   "language": "python",
   "name": "python3"
  },
  "language_info": {
   "codemirror_mode": {
    "name": "ipython",
    "version": 3
   },
   "file_extension": ".py",
   "mimetype": "text/x-python",
   "name": "python",
   "nbconvert_exporter": "python",
   "pygments_lexer": "ipython3",
   "version": "3.8.2"
  }
 },
 "nbformat": 4,
 "nbformat_minor": 4
}
